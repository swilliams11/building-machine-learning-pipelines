{
 "cells": [
  {
   "cell_type": "markdown",
   "id": "chemical-facial",
   "metadata": {},
   "source": [
    "# Install necesary modules"
   ]
  },
  {
   "cell_type": "code",
   "execution_count": null,
   "id": "permanent-template",
   "metadata": {},
   "outputs": [],
   "source": [
    "!pip install tfx\n",
    "!pip install kfp\n"
   ]
  },
  {
   "cell_type": "markdown",
   "id": "previous-sleep",
   "metadata": {},
   "source": [
    "# Execute command\n",
    "You can't set the environment variable and execute the python notebook. So I exeucted the `export` command below into the terminal and executed the notebook from there.  "
   ]
  },
  {
   "cell_type": "code",
   "execution_count": null,
   "id": "assigned-distributor",
   "metadata": {},
   "outputs": [],
   "source": [
    "%env PYTHONPATH=~/Github/building-machine-learning-pipelines\n",
    "#import os\n",
    "#os.environ['PYTHONPATH'] = \"~/Github/building-machine-learning-pipelines\"\n"
   ]
  },
  {
   "cell_type": "code",
   "execution_count": null,
   "id": "extended-proportion",
   "metadata": {},
   "outputs": [],
   "source": [
    "!echo $PYTHONPATH"
   ]
  },
  {
   "cell_type": "code",
   "execution_count": null,
   "id": "imported-differential",
   "metadata": {},
   "outputs": [],
   "source": [
    "%run pipeline_gcp_cloud_ai.py"
   ]
  },
  {
   "cell_type": "markdown",
   "id": "everyday-torture",
   "metadata": {},
   "source": [
    "# Commands to execute in your terminal\n",
    "\n",
    "This script will generate a file name `consumer_complaint_pipeline_cloud_ai_to_cloud_bucket.yaml` in the `pipelines/google_cloud_ai/argo_pipeline_files` directory. \n",
    "```\n",
    "source env py38\n",
    "pip install tfx\n",
    "pip install kfp\n",
    "\n",
    "export PYTHONPATH=~/Github/building-machine-learning-pipelines\n",
    "cd ~/Github/building-machine-learning-pipelines/pipelines/google_cloud_ai\n",
    "python google_cloud_ai_platform.py\n",
    "```\n",
    "\n"
   ]
  },
  {
   "cell_type": "markdown",
   "id": "removable-sheriff",
   "metadata": {},
   "source": [
    "# Argo Pipeline Yaml Config\n",
    "Once you have the Argo file, then you can upload it to Kubeflow pipelines.  "
   ]
  },
  {
   "cell_type": "code",
   "execution_count": null,
   "id": "plain-influence",
   "metadata": {},
   "outputs": [],
   "source": []
  }
 ],
 "metadata": {
  "kernelspec": {
   "display_name": "Python 3",
   "language": "python",
   "name": "python3"
  },
  "language_info": {
   "codemirror_mode": {
    "name": "ipython",
    "version": 3
   },
   "file_extension": ".py",
   "mimetype": "text/x-python",
   "name": "python",
   "nbconvert_exporter": "python",
   "pygments_lexer": "ipython3",
   "version": "3.8.5"
  }
 },
 "nbformat": 4,
 "nbformat_minor": 5
}
