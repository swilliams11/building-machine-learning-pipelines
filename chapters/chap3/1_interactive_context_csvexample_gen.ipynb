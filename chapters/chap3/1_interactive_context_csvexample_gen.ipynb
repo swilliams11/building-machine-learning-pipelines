{
 "cells": [
  {
   "cell_type": "markdown",
   "id": "pediatric-runner",
   "metadata": {},
   "source": [
    "I attempted to get the first part of Chapter 2 to work but ran into the error in the last cell. The author didn't include all the code to set this up correctly. "
   ]
  },
  {
   "cell_type": "code",
   "execution_count": 1,
   "id": "prompt-broadcast",
   "metadata": {},
   "outputs": [],
   "source": [
    "%config IPCompleter.greedy=True"
   ]
  },
  {
   "cell_type": "code",
   "execution_count": null,
   "id": "earned-light",
   "metadata": {},
   "outputs": [],
   "source": [
    "!pip install tensorflow\n",
    "!pip install tfx"
   ]
  },
  {
   "cell_type": "code",
   "execution_count": 6,
   "id": "based-treaty",
   "metadata": {},
   "outputs": [],
   "source": [
    "import tensorflow_data_validation as tfdv\n",
    "import tensorflow_transform as tft\n",
    "import tensorflow_transform.beam as tft_beam\n",
    "\n",
    "from tfx.components import ExampleValidator\n",
    "from tfx.components import Evaluator\n",
    "from tfx.components import Transform\n",
    "from tfx.proto import pusher_pb2, trainer_pb2, example_gen_pb2\n",
    "from tfx.utils.dsl_utils import external_input\n"
   ]
  },
  {
   "cell_type": "code",
   "execution_count": 7,
   "id": "absolute-bicycle",
   "metadata": {},
   "outputs": [],
   "source": [
    "import tensorflow as tf \n",
    "from tfx.orchestration.experimental.interactive.interactive_context import InteractiveContext\n",
    "from tfx.components import (\n",
    "    CsvExampleGen,\n",
    "    Evaluator,\n",
    "    ExampleValidator,\n",
    "    Pusher,\n",
    "    ResolverNode,\n",
    "    SchemaGen,\n",
    "    StatisticsGen,\n",
    "    Trainer,\n",
    "    Transform,\n",
    ")"
   ]
  },
  {
   "cell_type": "code",
   "execution_count": null,
   "id": "strategic-store",
   "metadata": {},
   "outputs": [],
   "source": [
    "import os\n",
    "\n",
    "\n",
    "base_dir = os.getcwd()\n",
    "data_dir = os.path.join(base_dir, 'Github/building-machine-learning-pipelines/data')\n",
    "\n",
    "context = InteractiveContext()\n",
    "\n",
    "examples = external_input(data_dir)\n",
    "example_gen = CsvExampleGen(input=examples)\n",
    "context.run(example_gen)\n",
    "\n",
    "# statistics_gen = StatisticsGen(examples=example_gen.outputs['examples'])\n",
    "# context.run(statistics_gen)\n"
   ]
  },
  {
   "cell_type": "code",
   "execution_count": null,
   "id": "secret-possibility",
   "metadata": {},
   "outputs": [],
   "source": []
  }
 ],
 "metadata": {
  "kernelspec": {
   "display_name": "Python 3",
   "language": "python",
   "name": "python3"
  },
  "language_info": {
   "codemirror_mode": {
    "name": "ipython",
    "version": 3
   },
   "file_extension": ".py",
   "mimetype": "text/x-python",
   "name": "python",
   "nbconvert_exporter": "python",
   "pygments_lexer": "ipython3",
   "version": "3.8.5"
  }
 },
 "nbformat": 4,
 "nbformat_minor": 5
}
