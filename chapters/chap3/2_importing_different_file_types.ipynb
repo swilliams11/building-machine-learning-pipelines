{
 "cells": [
  {
   "cell_type": "markdown",
   "id": "pediatric-runner",
   "metadata": {},
   "source": [
    "# Importing Different File Types\n",
    "\n",
    "This notebook just provides the code to import different file types, but you can't execute it because these files don't exist and its missing configuration files.\n"
   ]
  },
  {
   "cell_type": "code",
   "execution_count": null,
   "id": "prompt-broadcast",
   "metadata": {},
   "outputs": [],
   "source": [
    "%config IPCompleter.greedy=True"
   ]
  },
  {
   "cell_type": "code",
   "execution_count": null,
   "id": "earned-light",
   "metadata": {},
   "outputs": [],
   "source": [
    "!pip install tensorflow\n",
    "!pip install tfx"
   ]
  },
  {
   "cell_type": "code",
   "execution_count": null,
   "id": "based-treaty",
   "metadata": {},
   "outputs": [],
   "source": [
    "import tensorflow as tf \n",
    "import os\n",
    "from tfx.utils.dsl_utils import external_input\n",
    "from tfx.orchestration.experimental.interactive.interactive_context import InteractiveContext\n",
    "from tfx.components import (\n",
    "    FileBasedExampleGen,\n",
    "    ImportExampleGen\n",
    ")"
   ]
  },
  {
   "cell_type": "markdown",
   "id": "portuguese-draft",
   "metadata": {},
   "source": [
    "## TFRecord File\n",
    "Example of how to import existing TFRecord file. "
   ]
  },
  {
   "cell_type": "code",
   "execution_count": null,
   "id": "strategic-store",
   "metadata": {},
   "outputs": [],
   "source": [
    "data_dir_str = 'Github/building-machine-learning-pipelines/data/tfrecords'\n",
    "base_dir = os.getcwd()\n",
    "data_dir = os.path.join(base_dir, data_dir_str)\n",
    "\n",
    "context = InteractiveContext()\n",
    "\n",
    "examples = external_input(data_dir)\n",
    "example_gen = ImportExampleGen(input=examples)\n",
    "context.run(example_gen)\n"
   ]
  },
  {
   "cell_type": "markdown",
   "id": "operational-revolution",
   "metadata": {},
   "source": [
    "# Parquet Example File\n",
    "Demonstrates how to import existing Parquet file.\n",
    "Full example is shown in [Github](https://github.com/tensorflow/tfx/blob/master/tfx/components/example_gen/custom_executors/parquet_executor.py). This source file is copied below. \n",
    "\n",
    "[TFX ExampleGen documentation](https://www.tensorflow.org/tfx/guide/examplegen)"
   ]
  },
  {
   "cell_type": "code",
   "execution_count": null,
   "id": "secret-possibility",
   "metadata": {},
   "outputs": [],
   "source": [
    "from tfx.components.example_gen.custom_executors import parquet_executor\n",
    "from tfx.components.base import executor_spec"
   ]
  },
  {
   "cell_type": "code",
   "execution_count": null,
   "id": "august-penetration",
   "metadata": {},
   "outputs": [],
   "source": [
    "# Lint as: python2, python3\n",
    "# Copyright 2019 Google LLC. All Rights Reserved.\n",
    "#\n",
    "# Licensed under the Apache License, Version 2.0 (the \"License\");\n",
    "# you may not use this file except in compliance with the License.\n",
    "# You may obtain a copy of the License at\n",
    "#\n",
    "#     http://www.apache.org/licenses/LICENSE-2.0\n",
    "#\n",
    "# Unless required by applicable law or agreed to in writing, software\n",
    "# distributed under the License is distributed on an \"AS IS\" BASIS,\n",
    "# WITHOUT WARRANTIES OR CONDITIONS OF ANY KIND, either express or implied.\n",
    "# See the License for the specific language governing permissions and\n",
    "# limitations under the License.\n",
    "\"\"\"Parquet based TFX example gen executor.\"\"\"\n",
    "\n",
    "from __future__ import absolute_import\n",
    "from __future__ import division\n",
    "from __future__ import print_function\n",
    "\n",
    "import os\n",
    "from typing import Any, Dict, Text\n",
    "\n",
    "from absl import logging\n",
    "import apache_beam as beam\n",
    "import tensorflow as tf\n",
    "\n",
    "from tfx.components.example_gen import utils\n",
    "from tfx.components.example_gen.base_example_gen_executor import BaseExampleGenExecutor\n",
    "\n",
    "\n",
    "@beam.ptransform_fn\n",
    "@beam.typehints.with_input_types(beam.Pipeline)\n",
    "@beam.typehints.with_output_types(tf.train.Example)\n",
    "def _ParquetToExample(  # pylint: disable=invalid-name\n",
    "    pipeline: beam.Pipeline, exec_properties: Dict[Text, Any],\n",
    "    split_pattern: Text) -> beam.pvalue.PCollection:\n",
    "  \"\"\"Read Parquet files and transform to TF examples.\n",
    "\n",
    "  Note that each input split will be transformed by this function separately.\n",
    "\n",
    "  Args:\n",
    "    pipeline: beam pipeline.\n",
    "    exec_properties: A dict of execution properties.\n",
    "      - input_base: input dir that contains Parquet data.\n",
    "    split_pattern: Split.pattern in Input config, glob relative file pattern\n",
    "      that maps to input files with root directory given by input_base.\n",
    "\n",
    "  Returns:\n",
    "    PCollection of TF examples.\n",
    "  \"\"\"\n",
    "  input_base_uri = exec_properties[utils.INPUT_BASE_KEY]\n",
    "  parquet_pattern = os.path.join(input_base_uri, split_pattern)\n",
    "  logging.info('Processing input parquet data %s to TFExample.',\n",
    "               parquet_pattern)\n",
    "\n",
    "  return (pipeline\n",
    "          # TODO(jyzhao): support per column read by input_config.\n",
    "          | 'ReadFromParquet' >> beam.io.ReadFromParquet(parquet_pattern)\n",
    "          | 'ToTFExample' >> beam.Map(utils.dict_to_example))\n",
    "\n",
    "\n",
    "class Executor(BaseExampleGenExecutor):\n",
    "  \"\"\"TFX example gen executor for processing parquet format.\n",
    "\n",
    "  Data type conversion:\n",
    "    integer types will be converted to tf.train.Feature with tf.train.Int64List.\n",
    "    float types will be converted to tf.train.Feature with tf.train.FloatList.\n",
    "    string types will be converted to tf.train.Feature with tf.train.BytesList\n",
    "      and utf-8 encoding.\n",
    "\n",
    "    Note that,\n",
    "      Single value will be converted to a list of that single value.\n",
    "      Missing value will be converted to empty tf.train.Feature().\n",
    "      Parquet data might lose precision, e.g., int96.\n",
    "\n",
    "    For details, check the dict_to_example function in example_gen.utils.\n",
    "\n",
    "\n",
    "  Example usage:\n",
    "\n",
    "    from tfx.components.base import executor_spec\n",
    "    from tfx.components.example_gen.component import\n",
    "    FileBasedExampleGen\n",
    "    from tfx.components.example_gen.custom_executors import\n",
    "    parquet_executor\n",
    "    from tfx.utils.dsl_utils import external_input\n",
    "\n",
    "    example_gen = FileBasedExampleGen(\n",
    "        input=external_input(parquet_dir_path),\n",
    "        custom_executor_spec=executor_spec.ExecutorClassSpec(\n",
    "            parquet_executor.Executor))\n",
    "  \"\"\"\n",
    "\n",
    "  def GetInputSourceToExamplePTransform(self) -> beam.PTransform:\n",
    "    \"\"\"Returns PTransform for parquet to TF examples.\"\"\"\n",
    "    return _ParquetToExample"
   ]
  },
  {
   "cell_type": "code",
   "execution_count": null,
   "id": "deadly-computer",
   "metadata": {},
   "outputs": [],
   "source": [
    "data_dir_str = 'Github/building-machine-learning-pipelines/data/parquet_records'\n",
    "base_dir = os.getcwd()\n",
    "data_dir = os.path.join(base_dir, data_dir_str)\n",
    "\n",
    "context = InteractiveContext()\n",
    "\n",
    "examples = external_input(data_dir)\n",
    "example_gen = FileBasedExampleGen(input=examples, \n",
    "                                  custom_executor_spec=executor_spec.ExecutorClassSpec(\n",
    "            parquet_executor.Executor))\n",
    "context.run(example_gen)"
   ]
  },
  {
   "cell_type": "markdown",
   "id": "seventh-psychology",
   "metadata": {},
   "source": [
    "# Convert Avro to tf.Example\n",
    "Full example is shown in [Github](https://github.com/tensorflow/tfx/blob/master/tfx/components/example_gen/custom_executors/avro_executor.py).  The example in this Github repo does not use the `executor_class` function variable. \n",
    "\n",
    "[TFX ExampleGen documentation](https://www.tensorflow.org/tfx/guide/examplegen)"
   ]
  },
  {
   "cell_type": "code",
   "execution_count": null,
   "id": "functioning-stake",
   "metadata": {},
   "outputs": [],
   "source": [
    "from tfx.components.example_gen.custom_executors import avro_executor"
   ]
  },
  {
   "cell_type": "code",
   "execution_count": null,
   "id": "daily-toilet",
   "metadata": {},
   "outputs": [],
   "source": [
    "data_dir_str = 'Github/building-machine-learning-pipelines/data/avro_records'\n",
    "base_dir = os.getcwd()\n",
    "data_dir = os.path.join(base_dir, data_dir_str)\n",
    "\n",
    "context = InteractiveContext()\n",
    "\n",
    "examples = external_input(data_dir)\n",
    "example_gen = FileBasedExampleGen(input=examples, \n",
    "                                  executor_class=avro_executor.Executor)\n",
    "context.run(example_gen)"
   ]
  }
 ],
 "metadata": {
  "kernelspec": {
   "display_name": "Python 3",
   "language": "python",
   "name": "python3"
  },
  "language_info": {
   "codemirror_mode": {
    "name": "ipython",
    "version": 3
   },
   "file_extension": ".py",
   "mimetype": "text/x-python",
   "name": "python",
   "nbconvert_exporter": "python",
   "pygments_lexer": "ipython3",
   "version": "3.8.5"
  }
 },
 "nbformat": 4,
 "nbformat_minor": 5
}
