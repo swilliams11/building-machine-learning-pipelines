{
 "cells": [
  {
   "cell_type": "markdown",
   "id": "pediatric-runner",
   "metadata": {},
   "source": [
    "# Convert custom data to TFRecord\n",
    "\n",
    "Demonstrates how to convert your custom data to TFRecord format. \n"
   ]
  },
  {
   "cell_type": "code",
   "execution_count": null,
   "id": "prompt-broadcast",
   "metadata": {},
   "outputs": [],
   "source": [
    "%config IPCompleter.greedy=True"
   ]
  },
  {
   "cell_type": "code",
   "execution_count": null,
   "id": "earned-light",
   "metadata": {},
   "outputs": [],
   "source": [
    "!pip install tensorflow\n",
    "!pip install tfx"
   ]
  },
  {
   "cell_type": "code",
   "execution_count": null,
   "id": "based-treaty",
   "metadata": {},
   "outputs": [],
   "source": [
    "import tensorflow as tf \n",
    "import csv\n",
    "import os, pwd\n",
    "from tfx.utils.dsl_utils import external_input\n",
    "from tfx.orchestration.experimental.interactive.interactive_context import InteractiveContext\n",
    "from tfx.components import (\n",
    "    FileBasedExampleGen,\n",
    "    ImportExampleGen\n",
    ")"
   ]
  },
  {
   "cell_type": "markdown",
   "id": "portuguese-draft",
   "metadata": {},
   "source": [
    "## Helper Functions"
   ]
  },
  {
   "cell_type": "code",
   "execution_count": null,
   "id": "elegant-communications",
   "metadata": {},
   "outputs": [],
   "source": [
    "def _bytes_feature(value):\n",
    "    return tf.train.Feature(bytes_list=tf.train.BytesList(value=[value.encode()]))\n",
    "\n",
    "def _float_feature(value):\n",
    "    return tf.train.Feature(float_list=tf.train.FloatList(value=[value]))\n",
    "\n",
    "def _int64_feature(value):\n",
    "    return tf.train.Feature(int64_list=tf.train.Int64List(value=[value]))"
   ]
  },
  {
   "cell_type": "code",
   "execution_count": null,
   "id": "manual-culture",
   "metadata": {},
   "outputs": [],
   "source": [
    "def clean_rows(row):\n",
    "    if not row[\"zip_code\"]:\n",
    "        row[\"zip_code\"] = \"99999\"\n",
    "    return row\n",
    "\n",
    "def convert_zipcode_to_int(zipcode):\n",
    "    if isinstance(zipcode, str) and \"XX\" in zipcode:\n",
    "        zipcode = zipcode.replace(\"XX\", \"00\")\n",
    "    int_zipcode = int(zipcode)\n",
    "    return int_zipcode"
   ]
  },
  {
   "cell_type": "markdown",
   "id": "seeing-worth",
   "metadata": {},
   "source": [
    "## Convert the csv file to tfrecord format"
   ]
  },
  {
   "cell_type": "code",
   "execution_count": null,
   "id": "strategic-store",
   "metadata": {},
   "outputs": [],
   "source": [
    "base_dir = pwd.getpwuid(os.getuid()).pw_dir\n",
    "data_dir_str = 'Github/building-machine-learning-pipelines/data'\n",
    "data_dir = os.path.join(base_dir, data_dir_str)\n",
    "original_data_file = os.path.join(data_dir, 'consumer_complaints_with_narrative.csv')\n",
    "tfrecord_filename = 'consumer-complaints.tfrecord'\n",
    "\n",
    "tfrecord_writer = tf.io.TFRecordWriter(tfrecord_filename)\n",
    "\n",
    "with open(original_data_file) as csv_file:\n",
    "    reader = csv.DictReader(csv_file, delimiter=\",\", quotechar='\"')\n",
    "    for row in reader:\n",
    "        row = clean_rows(row)\n",
    "        example = tf.train.Example(features=tf.train.Features(feature={\n",
    "            \"product\": _bytes_feature(row[\"product\"]),\n",
    "            \"sub_product\": _bytes_feature(row[\"sub_product\"]),\n",
    "            \"issue\": _bytes_feature(row[\"issue\"]),\n",
    "            \"sub_issue\": _bytes_feature(row[\"sub_issue\"]),\n",
    "            \"state\": _bytes_feature(row[\"state\"]),\n",
    "            \"zip_code\": _int64_feature(convert_zipcode_to_int(row[\"zip_code\"])),\n",
    "            \"company\": _bytes_feature(row[\"company\"]),\n",
    "            \"company_response\": _bytes_feature(row[\"company_response\"]),\n",
    "            \"consumer_complaint_narrative\": _bytes_feature(row[\"consumer_complaint_narrative\"]),\n",
    "            \"timely_response\": _bytes_feature(row[\"timely_response\"]),\n",
    "            \"consumer_disputed\": _bytes_feature(row[\"consumer_disputed\"])\n",
    "        }))\n",
    "        tfrecord_writer.write(example.SerializeToString())\n",
    "    tfrecord_writer.close()\n",
    "\n",
    "context = InteractiveContext()\n",
    "\n",
    "examples = external_input(data_dir)\n",
    "example_gen = ImportExampleGen(input=examples)\n",
    "context.run(example_gen)\n"
   ]
  }
 ],
 "metadata": {
  "kernelspec": {
   "display_name": "Python 3",
   "language": "python",
   "name": "python3"
  },
  "language_info": {
   "codemirror_mode": {
    "name": "ipython",
    "version": 3
   },
   "file_extension": ".py",
   "mimetype": "text/x-python",
   "name": "python",
   "nbconvert_exporter": "python",
   "pygments_lexer": "ipython3",
   "version": "3.8.5"
  }
 },
 "nbformat": 4,
 "nbformat_minor": 5
}
